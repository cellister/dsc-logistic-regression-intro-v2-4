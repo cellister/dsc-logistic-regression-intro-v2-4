{
 "cells": [
  {
   "cell_type": "markdown",
   "metadata": {},
   "source": [
    "# Logistic Regression - Introduction"
   ]
  },
  {
   "cell_type": "markdown",
   "metadata": {},
   "source": [
    "## Introduction\n",
    "\n",
    "In this you'll be introduced to a new type of machine learning technique: classification! You'll learn about an algorithm called logistic regression and how it can be seen through a statistical point of view with maximum likelihood estimation (MLE). This should provide you some additional time to wrangle with statistical concepts and improve your overall coding abilities.\n",
    "\n",
    "\n",
    "## Logistic Regression\n",
    "\n",
    "You're familiar with linear regression to predict continuous values. You're now going to return to regression to look at how it can be used as a classifier instead to determine the likelihood of a given data point being associated with one of two categories.\n",
    "\n",
    "We'll start by introducing the sigmoid function and showing how it can be used to fit a curve that matches a binary classifier (e.g. does someone make over or under &dollar;40k a year or are they a good or bad credit risk).\n",
    "\n",
    "video example:https://www.youtube.com/watch?v=83hHT1BQFxk\n",
    "\n",
    "## Maximum Likelihood Estimation (MLE)\n",
    "\n",
    "Maximum likelihood estimation is a statistical procedure for determining underlying parameter distributions. As the name implies, the underlying motivation is to find parameters that maximize the theoretical chances of observing the actual observations.\n",
    "\n",
    "## MLE and Logistic Regression\n",
    "\n",
    "Logistic regression, despite its name, is a classification algorithm. An interesting nuance is that it provides confidence values with its predictions since the raw output is a probability of a class between 0 and 1. The general process for this is similar to linear regression, where coefficients for various feature weights are altered in order to optimize the accuracy of subsequent predictions from the model.\n",
    "\n",
    "\n",
    "## Summary\n",
    "\n",
    "It's important to be aware of logistic regression as one of the most basic classifiers that you can use. In this section you'll learn how it works and how to use it."
   ]
  }
 ],
 "metadata": {
  "kernelspec": {
   "display_name": "Python 3",
   "language": "python",
   "name": "python3"
  },
  "language_info": {
   "codemirror_mode": {
    "name": "ipython",
    "version": 3
   },
   "file_extension": ".py",
   "mimetype": "text/x-python",
   "name": "python",
   "nbconvert_exporter": "python",
   "pygments_lexer": "ipython3",
   "version": "3.8.5"
  }
 },
 "nbformat": 4,
 "nbformat_minor": 2
}
